{
  "cells": [
    {
      "cell_type": "markdown",
      "metadata": {
        "id": "EIhcItrgVAqa"
      },
      "source": [
        "1 : 环境"
      ]
    },
    {
      "cell_type": "code",
      "execution_count": 1,
      "metadata": {
        "id": "aSZ4_Q6yO10C"
      },
      "outputs": [],
      "source": [
        "import numpy as np\n",
        "import pandas as pd"
      ]
    },
    {
      "cell_type": "code",
      "execution_count": 2,
      "metadata": {
        "id": "RmaJO6OgO22G"
      },
      "outputs": [],
      "source": [
        "from sklearn.model_selection import train_test_split\n",
        "from sklearn.ensemble import RandomForestClassifier, VotingClassifier\n",
        "from sklearn.svm import SVC\n",
        "from sklearn.linear_model import LogisticRegression\n",
        "from sklearn.metrics import accuracy_score, log_loss\n",
        "from sklearn.impute import SimpleImputer\n",
        "from sklearn.preprocessing import StandardScaler, PolynomialFeatures"
      ]
    },
    {
      "cell_type": "markdown",
      "metadata": {
        "id": "MncCjwlpVDqI"
      },
      "source": [
        "2: 加载数据集"
      ]
    },
    {
      "cell_type": "code",
      "execution_count": 5,
      "metadata": {
        "colab": {
          "base_uri": "https://localhost:8080/",
          "height": 304
        },
        "id": "EKJUJGxYVJDv",
        "outputId": "78c41c15-b27f-407c-90fa-6b9a6787676b"
      },
      "outputs": [
        {
          "data": {
            "text/html": [
              "<div>\n",
              "<style scoped>\n",
              "    .dataframe tbody tr th:only-of-type {\n",
              "        vertical-align: middle;\n",
              "    }\n",
              "\n",
              "    .dataframe tbody tr th {\n",
              "        vertical-align: top;\n",
              "    }\n",
              "\n",
              "    .dataframe thead th {\n",
              "        text-align: right;\n",
              "    }\n",
              "</style>\n",
              "<table border=\"1\" class=\"dataframe\">\n",
              "  <thead>\n",
              "    <tr style=\"text-align: right;\">\n",
              "      <th></th>\n",
              "      <th>AB</th>\n",
              "      <th>AF</th>\n",
              "      <th>AH</th>\n",
              "      <th>AM</th>\n",
              "      <th>AR</th>\n",
              "      <th>AX</th>\n",
              "      <th>AY</th>\n",
              "      <th>AZ</th>\n",
              "      <th>BC</th>\n",
              "      <th>BD</th>\n",
              "      <th>...</th>\n",
              "      <th>FL</th>\n",
              "      <th>FR</th>\n",
              "      <th>FS</th>\n",
              "      <th>GB</th>\n",
              "      <th>GE</th>\n",
              "      <th>GF</th>\n",
              "      <th>GH</th>\n",
              "      <th>GI</th>\n",
              "      <th>GL</th>\n",
              "      <th>Class</th>\n",
              "    </tr>\n",
              "  </thead>\n",
              "  <tbody>\n",
              "    <tr>\n",
              "      <th>count</th>\n",
              "      <td>617.000000</td>\n",
              "      <td>617.000000</td>\n",
              "      <td>617.000000</td>\n",
              "      <td>617.000000</td>\n",
              "      <td>617.000000</td>\n",
              "      <td>617.000000</td>\n",
              "      <td>617.000000</td>\n",
              "      <td>617.000000</td>\n",
              "      <td>617.000000</td>\n",
              "      <td>617.000000</td>\n",
              "      <td>...</td>\n",
              "      <td>616.000000</td>\n",
              "      <td>617.000000</td>\n",
              "      <td>615.000000</td>\n",
              "      <td>617.000000</td>\n",
              "      <td>617.000000</td>\n",
              "      <td>617.000000</td>\n",
              "      <td>617.000000</td>\n",
              "      <td>617.000000</td>\n",
              "      <td>616.000000</td>\n",
              "      <td>617.000000</td>\n",
              "    </tr>\n",
              "    <tr>\n",
              "      <th>mean</th>\n",
              "      <td>0.477149</td>\n",
              "      <td>3502.013221</td>\n",
              "      <td>118.624513</td>\n",
              "      <td>38.968552</td>\n",
              "      <td>10.128242</td>\n",
              "      <td>5.545576</td>\n",
              "      <td>0.060320</td>\n",
              "      <td>10.566447</td>\n",
              "      <td>8.053012</td>\n",
              "      <td>5350.388655</td>\n",
              "      <td>...</td>\n",
              "      <td>5.433199</td>\n",
              "      <td>3.533905</td>\n",
              "      <td>0.421501</td>\n",
              "      <td>20.724856</td>\n",
              "      <td>131.714987</td>\n",
              "      <td>14679.595398</td>\n",
              "      <td>31.489716</td>\n",
              "      <td>50.584437</td>\n",
              "      <td>8.530961</td>\n",
              "      <td>0.175041</td>\n",
              "    </tr>\n",
              "    <tr>\n",
              "      <th>std</th>\n",
              "      <td>0.468388</td>\n",
              "      <td>2300.322717</td>\n",
              "      <td>127.838950</td>\n",
              "      <td>69.728226</td>\n",
              "      <td>10.518877</td>\n",
              "      <td>2.551696</td>\n",
              "      <td>0.416817</td>\n",
              "      <td>4.350645</td>\n",
              "      <td>65.166943</td>\n",
              "      <td>3021.326641</td>\n",
              "      <td>...</td>\n",
              "      <td>11.496257</td>\n",
              "      <td>50.181948</td>\n",
              "      <td>1.305365</td>\n",
              "      <td>9.991907</td>\n",
              "      <td>144.181524</td>\n",
              "      <td>19352.959387</td>\n",
              "      <td>9.864239</td>\n",
              "      <td>36.266251</td>\n",
              "      <td>10.327010</td>\n",
              "      <td>0.380310</td>\n",
              "    </tr>\n",
              "    <tr>\n",
              "      <th>min</th>\n",
              "      <td>0.081187</td>\n",
              "      <td>192.593280</td>\n",
              "      <td>85.200147</td>\n",
              "      <td>3.177522</td>\n",
              "      <td>8.138688</td>\n",
              "      <td>0.699861</td>\n",
              "      <td>0.025578</td>\n",
              "      <td>3.396778</td>\n",
              "      <td>1.229900</td>\n",
              "      <td>1693.624320</td>\n",
              "      <td>...</td>\n",
              "      <td>0.173229</td>\n",
              "      <td>0.497060</td>\n",
              "      <td>0.067730</td>\n",
              "      <td>4.102182</td>\n",
              "      <td>72.611063</td>\n",
              "      <td>13.038894</td>\n",
              "      <td>9.432735</td>\n",
              "      <td>0.897628</td>\n",
              "      <td>0.001129</td>\n",
              "      <td>0.000000</td>\n",
              "    </tr>\n",
              "    <tr>\n",
              "      <th>25%</th>\n",
              "      <td>0.252107</td>\n",
              "      <td>2197.345480</td>\n",
              "      <td>85.200147</td>\n",
              "      <td>12.270314</td>\n",
              "      <td>8.138688</td>\n",
              "      <td>4.128294</td>\n",
              "      <td>0.025578</td>\n",
              "      <td>8.129580</td>\n",
              "      <td>1.229900</td>\n",
              "      <td>4155.702870</td>\n",
              "      <td>...</td>\n",
              "      <td>0.173229</td>\n",
              "      <td>0.497060</td>\n",
              "      <td>0.067730</td>\n",
              "      <td>14.036718</td>\n",
              "      <td>72.611063</td>\n",
              "      <td>2798.992584</td>\n",
              "      <td>25.034888</td>\n",
              "      <td>23.011684</td>\n",
              "      <td>0.124392</td>\n",
              "      <td>0.000000</td>\n",
              "    </tr>\n",
              "    <tr>\n",
              "      <th>50%</th>\n",
              "      <td>0.354659</td>\n",
              "      <td>3120.318960</td>\n",
              "      <td>85.200147</td>\n",
              "      <td>20.533110</td>\n",
              "      <td>8.138688</td>\n",
              "      <td>5.031912</td>\n",
              "      <td>0.025578</td>\n",
              "      <td>10.461320</td>\n",
              "      <td>1.229900</td>\n",
              "      <td>4997.960730</td>\n",
              "      <td>...</td>\n",
              "      <td>3.028141</td>\n",
              "      <td>1.131000</td>\n",
              "      <td>0.250601</td>\n",
              "      <td>18.771436</td>\n",
              "      <td>72.611063</td>\n",
              "      <td>7838.273610</td>\n",
              "      <td>30.608946</td>\n",
              "      <td>41.007968</td>\n",
              "      <td>0.337827</td>\n",
              "      <td>0.000000</td>\n",
              "    </tr>\n",
              "    <tr>\n",
              "      <th>75%</th>\n",
              "      <td>0.559763</td>\n",
              "      <td>4361.637390</td>\n",
              "      <td>113.739540</td>\n",
              "      <td>39.139886</td>\n",
              "      <td>8.138688</td>\n",
              "      <td>6.431634</td>\n",
              "      <td>0.036845</td>\n",
              "      <td>12.969516</td>\n",
              "      <td>5.081244</td>\n",
              "      <td>6035.885700</td>\n",
              "      <td>...</td>\n",
              "      <td>6.238814</td>\n",
              "      <td>1.512060</td>\n",
              "      <td>0.535067</td>\n",
              "      <td>25.608406</td>\n",
              "      <td>127.591671</td>\n",
              "      <td>19035.709240</td>\n",
              "      <td>36.863947</td>\n",
              "      <td>67.931664</td>\n",
              "      <td>21.978000</td>\n",
              "      <td>0.000000</td>\n",
              "    </tr>\n",
              "    <tr>\n",
              "      <th>max</th>\n",
              "      <td>6.161666</td>\n",
              "      <td>28688.187660</td>\n",
              "      <td>1910.123198</td>\n",
              "      <td>630.518230</td>\n",
              "      <td>178.943634</td>\n",
              "      <td>38.270880</td>\n",
              "      <td>10.315851</td>\n",
              "      <td>38.971568</td>\n",
              "      <td>1463.693448</td>\n",
              "      <td>53060.599240</td>\n",
              "      <td>...</td>\n",
              "      <td>137.932739</td>\n",
              "      <td>1244.227020</td>\n",
              "      <td>31.365763</td>\n",
              "      <td>135.781294</td>\n",
              "      <td>1497.351958</td>\n",
              "      <td>143790.071200</td>\n",
              "      <td>81.210825</td>\n",
              "      <td>191.194764</td>\n",
              "      <td>21.978000</td>\n",
              "      <td>1.000000</td>\n",
              "    </tr>\n",
              "  </tbody>\n",
              "</table>\n",
              "<p>8 rows × 56 columns</p>\n",
              "</div>"
            ],
            "text/plain": [
              "               AB            AF           AH          AM          AR  \\\n",
              "count  617.000000    617.000000   617.000000  617.000000  617.000000   \n",
              "mean     0.477149   3502.013221   118.624513   38.968552   10.128242   \n",
              "std      0.468388   2300.322717   127.838950   69.728226   10.518877   \n",
              "min      0.081187    192.593280    85.200147    3.177522    8.138688   \n",
              "25%      0.252107   2197.345480    85.200147   12.270314    8.138688   \n",
              "50%      0.354659   3120.318960    85.200147   20.533110    8.138688   \n",
              "75%      0.559763   4361.637390   113.739540   39.139886    8.138688   \n",
              "max      6.161666  28688.187660  1910.123198  630.518230  178.943634   \n",
              "\n",
              "               AX          AY          AZ           BC           BD   ...  \\\n",
              "count  617.000000  617.000000  617.000000   617.000000    617.000000  ...   \n",
              "mean     5.545576    0.060320   10.566447     8.053012   5350.388655  ...   \n",
              "std      2.551696    0.416817    4.350645    65.166943   3021.326641  ...   \n",
              "min      0.699861    0.025578    3.396778     1.229900   1693.624320  ...   \n",
              "25%      4.128294    0.025578    8.129580     1.229900   4155.702870  ...   \n",
              "50%      5.031912    0.025578   10.461320     1.229900   4997.960730  ...   \n",
              "75%      6.431634    0.036845   12.969516     5.081244   6035.885700  ...   \n",
              "max     38.270880   10.315851   38.971568  1463.693448  53060.599240  ...   \n",
              "\n",
              "               FL           FR          FS          GB           GE  \\\n",
              "count  616.000000   617.000000  615.000000  617.000000   617.000000   \n",
              "mean     5.433199     3.533905    0.421501   20.724856   131.714987   \n",
              "std     11.496257    50.181948    1.305365    9.991907   144.181524   \n",
              "min      0.173229     0.497060    0.067730    4.102182    72.611063   \n",
              "25%      0.173229     0.497060    0.067730   14.036718    72.611063   \n",
              "50%      3.028141     1.131000    0.250601   18.771436    72.611063   \n",
              "75%      6.238814     1.512060    0.535067   25.608406   127.591671   \n",
              "max    137.932739  1244.227020   31.365763  135.781294  1497.351958   \n",
              "\n",
              "                  GF          GH          GI          GL       Class  \n",
              "count     617.000000  617.000000  617.000000  616.000000  617.000000  \n",
              "mean    14679.595398   31.489716   50.584437    8.530961    0.175041  \n",
              "std     19352.959387    9.864239   36.266251   10.327010    0.380310  \n",
              "min        13.038894    9.432735    0.897628    0.001129    0.000000  \n",
              "25%      2798.992584   25.034888   23.011684    0.124392    0.000000  \n",
              "50%      7838.273610   30.608946   41.007968    0.337827    0.000000  \n",
              "75%     19035.709240   36.863947   67.931664   21.978000    0.000000  \n",
              "max    143790.071200   81.210825  191.194764   21.978000    1.000000  \n",
              "\n",
              "[8 rows x 56 columns]"
            ]
          },
          "execution_count": 5,
          "metadata": {},
          "output_type": "execute_result"
        }
      ],
      "source": [
        "train = pd.read_csv('train.csv')\n",
        "test = pd.read_csv('test.csv')\n",
        "train.describe()"
      ]
    },
    {
      "cell_type": "markdown",
      "metadata": {
        "id": "Ziml4V6tVJZy"
      },
      "source": [
        "3: 数据预处理"
      ]
    },
    {
      "cell_type": "code",
      "execution_count": 6,
      "metadata": {
        "id": "bL_4ToxNVLYp"
      },
      "outputs": [],
      "source": [
        "for col in train.columns:\n",
        "  if train[col].dtype == 'object' and col != 'Id':\n",
        "    train[col] = train[col].astype('category').cat.codes\n",
        "    test[col] = test[col].astype('category').cat.codes"
      ]
    },
    {
      "cell_type": "code",
      "execution_count": 7,
      "metadata": {
        "colab": {
          "base_uri": "https://localhost:8080/"
        },
        "id": "2vJCNJO7e_Vk",
        "outputId": "2abe6d72-7190-4560-a74d-82e415b4a698"
      },
      "outputs": [
        {
          "data": {
            "text/plain": [
              "0      1\n",
              "1      0\n",
              "2      1\n",
              "3      1\n",
              "4      1\n",
              "      ..\n",
              "612    0\n",
              "613    1\n",
              "614    0\n",
              "615    1\n",
              "616    0\n",
              "Name: EJ, Length: 617, dtype: int8"
            ]
          },
          "execution_count": 7,
          "metadata": {},
          "output_type": "execute_result"
        }
      ],
      "source": [
        "train['EJ']"
      ]
    },
    {
      "cell_type": "markdown",
      "metadata": {
        "id": "GgDMhO8BVLzt"
      },
      "source": [
        "4: 分离response variable 和 id\n",
        "\n",
        "\n"
      ]
    },
    {
      "cell_type": "code",
      "execution_count": 8,
      "metadata": {
        "id": "PZqmFAzbVZNG"
      },
      "outputs": [],
      "source": [
        "train_labels = train.pop('Class')\n",
        "train_id = train.pop('Id')\n",
        "test_id = test.pop('Id')"
      ]
    },
    {
      "cell_type": "markdown",
      "metadata": {
        "id": "M3eNRFsQVZtS"
      },
      "source": [
        "5:分离 training 和 validation （决定要不要cross validation/KNN）\n"
      ]
    },
    {
      "cell_type": "code",
      "execution_count": 9,
      "metadata": {
        "id": "n_AA39SMV0pd"
      },
      "outputs": [],
      "source": [
        "train_data, val_data, train_labels, val_labels = train_test_split(train, train_labels, test_size=0.2, random_state=42)\n"
      ]
    },
    {
      "cell_type": "markdown",
      "metadata": {
        "id": "d3Gs847JV09R"
      },
      "source": [
        "6: missing value"
      ]
    },
    {
      "cell_type": "code",
      "execution_count": 10,
      "metadata": {
        "id": "T97iRVtVWg-r"
      },
      "outputs": [],
      "source": [
        "imputer = SimpleImputer(strategy='mean')\n",
        "train_data_filled = imputer.fit_transform(train_data)\n",
        "val_data_filled = imputer.transform(val_data)\n",
        "\n",
        "test_filled = imputer.transform(test)"
      ]
    },
    {
      "cell_type": "markdown",
      "metadata": {
        "id": "aIEBxOHyWhlw"
      },
      "source": [
        "7: 特征缩放 （ 因为我们是numeric的， 做一个regularization就OK， 如果是picture， **要做缩放，变色，等处理）**"
      ]
    },
    {
      "cell_type": "code",
      "execution_count": 11,
      "metadata": {
        "id": "e3rSqOGhW7OL"
      },
      "outputs": [],
      "source": [
        "scaler = StandardScaler()\n",
        "train_data_scaled = scaler.fit_transform(train_data_filled)\n",
        "val_data_scaled = scaler.transform(val_data_filled)\n",
        "test_scaled = scaler.transform(test_filled)"
      ]
    },
    {
      "cell_type": "markdown",
      "metadata": {
        "id": "WEoxNWFlW7iP"
      },
      "source": [
        "8: 特征交互 （生成二次特征，比如说把两个东西搞平方生成一个列， 如果是NLP的话，这个是必要步骤\\）"
      ]
    },
    {
      "cell_type": "code",
      "execution_count": 12,
      "metadata": {
        "id": "xZKhVU15ZP3T"
      },
      "outputs": [],
      "source": [
        "poly_features = PolynomialFeatures(degree = 2, interaction_only=True)\n",
        "train_data_poly = poly_features.fit_transform(train_data_scaled)\n",
        "val_data_poly = poly_features.transform(val_data_scaled)\n",
        "test_poly = poly_features.transform(test_scaled)"
      ]
    },
    {
      "cell_type": "markdown",
      "metadata": {
        "id": "TVz1gM8TZKcW"
      },
      "source": [
        "9: 模型"
      ]
    },
    {
      "cell_type": "code",
      "execution_count": null,
      "metadata": {
        "collapsed": true,
        "id": "4ouQUwVTJLKT"
      },
      "outputs": [],
      "source": [
        "#! pip install autogluon"
      ]
    },
    {
      "cell_type": "code",
      "execution_count": null,
      "metadata": {
        "id": "1hA2LQa1cwa2"
      },
      "outputs": [],
      "source": [
        "#from autogluon.tabular import TabularPredictor"
      ]
    },
    {
      "cell_type": "code",
      "execution_count": null,
      "metadata": {
        "id": "7R3cbOKDJV8W"
      },
      "outputs": [],
      "source": [
        "#train['Class'] = train_labels"
      ]
    },
    {
      "cell_type": "code",
      "execution_count": null,
      "metadata": {
        "id": "rhKlsXRGJcM4"
      },
      "outputs": [],
      "source": [
        "# save_path = 'autogluon_models'\n",
        "# predictor = TabularPredictor(label='Class', path=save_path)"
      ]
    },
    {
      "cell_type": "code",
      "execution_count": null,
      "metadata": {
        "id": "b-p-sIZLKcr9"
      },
      "outputs": [],
      "source": [
        "#predictor.fit(train, presets='best_quality')"
      ]
    },
    {
      "cell_type": "code",
      "execution_count": null,
      "metadata": {
        "id": "1KdncfQsJPCb"
      },
      "outputs": [],
      "source": [
        "# best_model = predictor.model_best\n",
        "# print('Best model:', best_model)"
      ]
    },
    {
      "cell_type": "code",
      "execution_count": null,
      "metadata": {
        "id": "gKtqD6_nOIzR"
      },
      "outputs": [],
      "source": [
        "#predictor = TabularPredictor.load('path')# bestmodel 的 path"
      ]
    },
    {
      "cell_type": "code",
      "execution_count": null,
      "metadata": {
        "id": "SiXzuaT9O3T9"
      },
      "outputs": [],
      "source": [
        "# 2: autogluon 意外的方法\n"
      ]
    },
    {
      "cell_type": "code",
      "execution_count": 13,
      "metadata": {
        "id": "EfTAEkcMQT64"
      },
      "outputs": [],
      "source": [
        "from sklearn.model_selection import GridSearchCV\n",
        "from sklearn.ensemble import RandomForestClassifier\n",
        "\n",
        "from sklearn.svm import SVC\n",
        "from sklearn.linear_model import LogisticRegression\n",
        "from sklearn.ensemble import VotingClassifier"
      ]
    },
    {
      "cell_type": "code",
      "execution_count": 14,
      "metadata": {
        "id": "vvhqZvwLQmya"
      },
      "outputs": [],
      "source": [
        "clf1 = RandomForestClassifier(n_estimators=300, max_leaf_nodes = 15000, random_state=42, bootstrap = True, criterion='gini')\n",
        "\n",
        "\n",
        "params_svc = {'C':[0.1,1,10], 'kernel': ['linear', 'rbf', 'poly']}\n",
        "clf2 = GridSearchCV(SVC(probability = True), param_grid = params_svc, cv = 3)\n",
        "\n",
        "clf3 = LogisticRegression(solver = 'liblinear')\n",
        "\n",
        "clf2.fit(train_data_scaled, train_labels)\n",
        "\n",
        "\n",
        "eclf = VotingClassifier(estimators=[('rf', clf1), ('svc', clf2), ('lr', clf3)], voting='soft', weights = [2,1,1])\n"
      ]
    },
    {
      "cell_type": "code",
      "execution_count": 15,
      "metadata": {
        "colab": {
          "base_uri": "https://localhost:8080/",
          "height": 191
        },
        "id": "xKNKM9VWZ7ZO",
        "outputId": "2243f65d-d9a9-4ecb-8312-1ab405500422"
      },
      "outputs": [
        {
          "data": {
            "text/html": [
              "<style>#sk-container-id-1 {\n",
              "  /* Definition of color scheme common for light and dark mode */\n",
              "  --sklearn-color-text: black;\n",
              "  --sklearn-color-line: gray;\n",
              "  /* Definition of color scheme for unfitted estimators */\n",
              "  --sklearn-color-unfitted-level-0: #fff5e6;\n",
              "  --sklearn-color-unfitted-level-1: #f6e4d2;\n",
              "  --sklearn-color-unfitted-level-2: #ffe0b3;\n",
              "  --sklearn-color-unfitted-level-3: chocolate;\n",
              "  /* Definition of color scheme for fitted estimators */\n",
              "  --sklearn-color-fitted-level-0: #f0f8ff;\n",
              "  --sklearn-color-fitted-level-1: #d4ebff;\n",
              "  --sklearn-color-fitted-level-2: #b3dbfd;\n",
              "  --sklearn-color-fitted-level-3: cornflowerblue;\n",
              "\n",
              "  /* Specific color for light theme */\n",
              "  --sklearn-color-text-on-default-background: var(--sg-text-color, var(--theme-code-foreground, var(--jp-content-font-color1, black)));\n",
              "  --sklearn-color-background: var(--sg-background-color, var(--theme-background, var(--jp-layout-color0, white)));\n",
              "  --sklearn-color-border-box: var(--sg-text-color, var(--theme-code-foreground, var(--jp-content-font-color1, black)));\n",
              "  --sklearn-color-icon: #696969;\n",
              "\n",
              "  @media (prefers-color-scheme: dark) {\n",
              "    /* Redefinition of color scheme for dark theme */\n",
              "    --sklearn-color-text-on-default-background: var(--sg-text-color, var(--theme-code-foreground, var(--jp-content-font-color1, white)));\n",
              "    --sklearn-color-background: var(--sg-background-color, var(--theme-background, var(--jp-layout-color0, #111)));\n",
              "    --sklearn-color-border-box: var(--sg-text-color, var(--theme-code-foreground, var(--jp-content-font-color1, white)));\n",
              "    --sklearn-color-icon: #878787;\n",
              "  }\n",
              "}\n",
              "\n",
              "#sk-container-id-1 {\n",
              "  color: var(--sklearn-color-text);\n",
              "}\n",
              "\n",
              "#sk-container-id-1 pre {\n",
              "  padding: 0;\n",
              "}\n",
              "\n",
              "#sk-container-id-1 input.sk-hidden--visually {\n",
              "  border: 0;\n",
              "  clip: rect(1px 1px 1px 1px);\n",
              "  clip: rect(1px, 1px, 1px, 1px);\n",
              "  height: 1px;\n",
              "  margin: -1px;\n",
              "  overflow: hidden;\n",
              "  padding: 0;\n",
              "  position: absolute;\n",
              "  width: 1px;\n",
              "}\n",
              "\n",
              "#sk-container-id-1 div.sk-dashed-wrapped {\n",
              "  border: 1px dashed var(--sklearn-color-line);\n",
              "  margin: 0 0.4em 0.5em 0.4em;\n",
              "  box-sizing: border-box;\n",
              "  padding-bottom: 0.4em;\n",
              "  background-color: var(--sklearn-color-background);\n",
              "}\n",
              "\n",
              "#sk-container-id-1 div.sk-container {\n",
              "  /* jupyter's `normalize.less` sets `[hidden] { display: none; }`\n",
              "     but bootstrap.min.css set `[hidden] { display: none !important; }`\n",
              "     so we also need the `!important` here to be able to override the\n",
              "     default hidden behavior on the sphinx rendered scikit-learn.org.\n",
              "     See: https://github.com/scikit-learn/scikit-learn/issues/21755 */\n",
              "  display: inline-block !important;\n",
              "  position: relative;\n",
              "}\n",
              "\n",
              "#sk-container-id-1 div.sk-text-repr-fallback {\n",
              "  display: none;\n",
              "}\n",
              "\n",
              "div.sk-parallel-item,\n",
              "div.sk-serial,\n",
              "div.sk-item {\n",
              "  /* draw centered vertical line to link estimators */\n",
              "  background-image: linear-gradient(var(--sklearn-color-text-on-default-background), var(--sklearn-color-text-on-default-background));\n",
              "  background-size: 2px 100%;\n",
              "  background-repeat: no-repeat;\n",
              "  background-position: center center;\n",
              "}\n",
              "\n",
              "/* Parallel-specific style estimator block */\n",
              "\n",
              "#sk-container-id-1 div.sk-parallel-item::after {\n",
              "  content: \"\";\n",
              "  width: 100%;\n",
              "  border-bottom: 2px solid var(--sklearn-color-text-on-default-background);\n",
              "  flex-grow: 1;\n",
              "}\n",
              "\n",
              "#sk-container-id-1 div.sk-parallel {\n",
              "  display: flex;\n",
              "  align-items: stretch;\n",
              "  justify-content: center;\n",
              "  background-color: var(--sklearn-color-background);\n",
              "  position: relative;\n",
              "}\n",
              "\n",
              "#sk-container-id-1 div.sk-parallel-item {\n",
              "  display: flex;\n",
              "  flex-direction: column;\n",
              "}\n",
              "\n",
              "#sk-container-id-1 div.sk-parallel-item:first-child::after {\n",
              "  align-self: flex-end;\n",
              "  width: 50%;\n",
              "}\n",
              "\n",
              "#sk-container-id-1 div.sk-parallel-item:last-child::after {\n",
              "  align-self: flex-start;\n",
              "  width: 50%;\n",
              "}\n",
              "\n",
              "#sk-container-id-1 div.sk-parallel-item:only-child::after {\n",
              "  width: 0;\n",
              "}\n",
              "\n",
              "/* Serial-specific style estimator block */\n",
              "\n",
              "#sk-container-id-1 div.sk-serial {\n",
              "  display: flex;\n",
              "  flex-direction: column;\n",
              "  align-items: center;\n",
              "  background-color: var(--sklearn-color-background);\n",
              "  padding-right: 1em;\n",
              "  padding-left: 1em;\n",
              "}\n",
              "\n",
              "\n",
              "/* Toggleable style: style used for estimator/Pipeline/ColumnTransformer box that is\n",
              "clickable and can be expanded/collapsed.\n",
              "- Pipeline and ColumnTransformer use this feature and define the default style\n",
              "- Estimators will overwrite some part of the style using the `sk-estimator` class\n",
              "*/\n",
              "\n",
              "/* Pipeline and ColumnTransformer style (default) */\n",
              "\n",
              "#sk-container-id-1 div.sk-toggleable {\n",
              "  /* Default theme specific background. It is overwritten whether we have a\n",
              "  specific estimator or a Pipeline/ColumnTransformer */\n",
              "  background-color: var(--sklearn-color-background);\n",
              "}\n",
              "\n",
              "/* Toggleable label */\n",
              "#sk-container-id-1 label.sk-toggleable__label {\n",
              "  cursor: pointer;\n",
              "  display: block;\n",
              "  width: 100%;\n",
              "  margin-bottom: 0;\n",
              "  padding: 0.5em;\n",
              "  box-sizing: border-box;\n",
              "  text-align: center;\n",
              "}\n",
              "\n",
              "#sk-container-id-1 label.sk-toggleable__label-arrow:before {\n",
              "  /* Arrow on the left of the label */\n",
              "  content: \"▸\";\n",
              "  float: left;\n",
              "  margin-right: 0.25em;\n",
              "  color: var(--sklearn-color-icon);\n",
              "}\n",
              "\n",
              "#sk-container-id-1 label.sk-toggleable__label-arrow:hover:before {\n",
              "  color: var(--sklearn-color-text);\n",
              "}\n",
              "\n",
              "/* Toggleable content - dropdown */\n",
              "\n",
              "#sk-container-id-1 div.sk-toggleable__content {\n",
              "  max-height: 0;\n",
              "  max-width: 0;\n",
              "  overflow: hidden;\n",
              "  text-align: left;\n",
              "  /* unfitted */\n",
              "  background-color: var(--sklearn-color-unfitted-level-0);\n",
              "}\n",
              "\n",
              "#sk-container-id-1 div.sk-toggleable__content.fitted {\n",
              "  /* fitted */\n",
              "  background-color: var(--sklearn-color-fitted-level-0);\n",
              "}\n",
              "\n",
              "#sk-container-id-1 div.sk-toggleable__content pre {\n",
              "  margin: 0.2em;\n",
              "  border-radius: 0.25em;\n",
              "  color: var(--sklearn-color-text);\n",
              "  /* unfitted */\n",
              "  background-color: var(--sklearn-color-unfitted-level-0);\n",
              "}\n",
              "\n",
              "#sk-container-id-1 div.sk-toggleable__content.fitted pre {\n",
              "  /* unfitted */\n",
              "  background-color: var(--sklearn-color-fitted-level-0);\n",
              "}\n",
              "\n",
              "#sk-container-id-1 input.sk-toggleable__control:checked~div.sk-toggleable__content {\n",
              "  /* Expand drop-down */\n",
              "  max-height: 200px;\n",
              "  max-width: 100%;\n",
              "  overflow: auto;\n",
              "}\n",
              "\n",
              "#sk-container-id-1 input.sk-toggleable__control:checked~label.sk-toggleable__label-arrow:before {\n",
              "  content: \"▾\";\n",
              "}\n",
              "\n",
              "/* Pipeline/ColumnTransformer-specific style */\n",
              "\n",
              "#sk-container-id-1 div.sk-label input.sk-toggleable__control:checked~label.sk-toggleable__label {\n",
              "  color: var(--sklearn-color-text);\n",
              "  background-color: var(--sklearn-color-unfitted-level-2);\n",
              "}\n",
              "\n",
              "#sk-container-id-1 div.sk-label.fitted input.sk-toggleable__control:checked~label.sk-toggleable__label {\n",
              "  background-color: var(--sklearn-color-fitted-level-2);\n",
              "}\n",
              "\n",
              "/* Estimator-specific style */\n",
              "\n",
              "/* Colorize estimator box */\n",
              "#sk-container-id-1 div.sk-estimator input.sk-toggleable__control:checked~label.sk-toggleable__label {\n",
              "  /* unfitted */\n",
              "  background-color: var(--sklearn-color-unfitted-level-2);\n",
              "}\n",
              "\n",
              "#sk-container-id-1 div.sk-estimator.fitted input.sk-toggleable__control:checked~label.sk-toggleable__label {\n",
              "  /* fitted */\n",
              "  background-color: var(--sklearn-color-fitted-level-2);\n",
              "}\n",
              "\n",
              "#sk-container-id-1 div.sk-label label.sk-toggleable__label,\n",
              "#sk-container-id-1 div.sk-label label {\n",
              "  /* The background is the default theme color */\n",
              "  color: var(--sklearn-color-text-on-default-background);\n",
              "}\n",
              "\n",
              "/* On hover, darken the color of the background */\n",
              "#sk-container-id-1 div.sk-label:hover label.sk-toggleable__label {\n",
              "  color: var(--sklearn-color-text);\n",
              "  background-color: var(--sklearn-color-unfitted-level-2);\n",
              "}\n",
              "\n",
              "/* Label box, darken color on hover, fitted */\n",
              "#sk-container-id-1 div.sk-label.fitted:hover label.sk-toggleable__label.fitted {\n",
              "  color: var(--sklearn-color-text);\n",
              "  background-color: var(--sklearn-color-fitted-level-2);\n",
              "}\n",
              "\n",
              "/* Estimator label */\n",
              "\n",
              "#sk-container-id-1 div.sk-label label {\n",
              "  font-family: monospace;\n",
              "  font-weight: bold;\n",
              "  display: inline-block;\n",
              "  line-height: 1.2em;\n",
              "}\n",
              "\n",
              "#sk-container-id-1 div.sk-label-container {\n",
              "  text-align: center;\n",
              "}\n",
              "\n",
              "/* Estimator-specific */\n",
              "#sk-container-id-1 div.sk-estimator {\n",
              "  font-family: monospace;\n",
              "  border: 1px dotted var(--sklearn-color-border-box);\n",
              "  border-radius: 0.25em;\n",
              "  box-sizing: border-box;\n",
              "  margin-bottom: 0.5em;\n",
              "  /* unfitted */\n",
              "  background-color: var(--sklearn-color-unfitted-level-0);\n",
              "}\n",
              "\n",
              "#sk-container-id-1 div.sk-estimator.fitted {\n",
              "  /* fitted */\n",
              "  background-color: var(--sklearn-color-fitted-level-0);\n",
              "}\n",
              "\n",
              "/* on hover */\n",
              "#sk-container-id-1 div.sk-estimator:hover {\n",
              "  /* unfitted */\n",
              "  background-color: var(--sklearn-color-unfitted-level-2);\n",
              "}\n",
              "\n",
              "#sk-container-id-1 div.sk-estimator.fitted:hover {\n",
              "  /* fitted */\n",
              "  background-color: var(--sklearn-color-fitted-level-2);\n",
              "}\n",
              "\n",
              "/* Specification for estimator info (e.g. \"i\" and \"?\") */\n",
              "\n",
              "/* Common style for \"i\" and \"?\" */\n",
              "\n",
              ".sk-estimator-doc-link,\n",
              "a:link.sk-estimator-doc-link,\n",
              "a:visited.sk-estimator-doc-link {\n",
              "  float: right;\n",
              "  font-size: smaller;\n",
              "  line-height: 1em;\n",
              "  font-family: monospace;\n",
              "  background-color: var(--sklearn-color-background);\n",
              "  border-radius: 1em;\n",
              "  height: 1em;\n",
              "  width: 1em;\n",
              "  text-decoration: none !important;\n",
              "  margin-left: 1ex;\n",
              "  /* unfitted */\n",
              "  border: var(--sklearn-color-unfitted-level-1) 1pt solid;\n",
              "  color: var(--sklearn-color-unfitted-level-1);\n",
              "}\n",
              "\n",
              ".sk-estimator-doc-link.fitted,\n",
              "a:link.sk-estimator-doc-link.fitted,\n",
              "a:visited.sk-estimator-doc-link.fitted {\n",
              "  /* fitted */\n",
              "  border: var(--sklearn-color-fitted-level-1) 1pt solid;\n",
              "  color: var(--sklearn-color-fitted-level-1);\n",
              "}\n",
              "\n",
              "/* On hover */\n",
              "div.sk-estimator:hover .sk-estimator-doc-link:hover,\n",
              ".sk-estimator-doc-link:hover,\n",
              "div.sk-label-container:hover .sk-estimator-doc-link:hover,\n",
              ".sk-estimator-doc-link:hover {\n",
              "  /* unfitted */\n",
              "  background-color: var(--sklearn-color-unfitted-level-3);\n",
              "  color: var(--sklearn-color-background);\n",
              "  text-decoration: none;\n",
              "}\n",
              "\n",
              "div.sk-estimator.fitted:hover .sk-estimator-doc-link.fitted:hover,\n",
              ".sk-estimator-doc-link.fitted:hover,\n",
              "div.sk-label-container:hover .sk-estimator-doc-link.fitted:hover,\n",
              ".sk-estimator-doc-link.fitted:hover {\n",
              "  /* fitted */\n",
              "  background-color: var(--sklearn-color-fitted-level-3);\n",
              "  color: var(--sklearn-color-background);\n",
              "  text-decoration: none;\n",
              "}\n",
              "\n",
              "/* Span, style for the box shown on hovering the info icon */\n",
              ".sk-estimator-doc-link span {\n",
              "  display: none;\n",
              "  z-index: 9999;\n",
              "  position: relative;\n",
              "  font-weight: normal;\n",
              "  right: .2ex;\n",
              "  padding: .5ex;\n",
              "  margin: .5ex;\n",
              "  width: min-content;\n",
              "  min-width: 20ex;\n",
              "  max-width: 50ex;\n",
              "  color: var(--sklearn-color-text);\n",
              "  box-shadow: 2pt 2pt 4pt #999;\n",
              "  /* unfitted */\n",
              "  background: var(--sklearn-color-unfitted-level-0);\n",
              "  border: .5pt solid var(--sklearn-color-unfitted-level-3);\n",
              "}\n",
              "\n",
              ".sk-estimator-doc-link.fitted span {\n",
              "  /* fitted */\n",
              "  background: var(--sklearn-color-fitted-level-0);\n",
              "  border: var(--sklearn-color-fitted-level-3);\n",
              "}\n",
              "\n",
              ".sk-estimator-doc-link:hover span {\n",
              "  display: block;\n",
              "}\n",
              "\n",
              "/* \"?\"-specific style due to the `<a>` HTML tag */\n",
              "\n",
              "#sk-container-id-1 a.estimator_doc_link {\n",
              "  float: right;\n",
              "  font-size: 1rem;\n",
              "  line-height: 1em;\n",
              "  font-family: monospace;\n",
              "  background-color: var(--sklearn-color-background);\n",
              "  border-radius: 1rem;\n",
              "  height: 1rem;\n",
              "  width: 1rem;\n",
              "  text-decoration: none;\n",
              "  /* unfitted */\n",
              "  color: var(--sklearn-color-unfitted-level-1);\n",
              "  border: var(--sklearn-color-unfitted-level-1) 1pt solid;\n",
              "}\n",
              "\n",
              "#sk-container-id-1 a.estimator_doc_link.fitted {\n",
              "  /* fitted */\n",
              "  border: var(--sklearn-color-fitted-level-1) 1pt solid;\n",
              "  color: var(--sklearn-color-fitted-level-1);\n",
              "}\n",
              "\n",
              "/* On hover */\n",
              "#sk-container-id-1 a.estimator_doc_link:hover {\n",
              "  /* unfitted */\n",
              "  background-color: var(--sklearn-color-unfitted-level-3);\n",
              "  color: var(--sklearn-color-background);\n",
              "  text-decoration: none;\n",
              "}\n",
              "\n",
              "#sk-container-id-1 a.estimator_doc_link.fitted:hover {\n",
              "  /* fitted */\n",
              "  background-color: var(--sklearn-color-fitted-level-3);\n",
              "}\n",
              "</style><div id=\"sk-container-id-1\" class=\"sk-top-container\"><div class=\"sk-text-repr-fallback\"><pre>VotingClassifier(estimators=[(&#x27;rf&#x27;,\n",
              "                              RandomForestClassifier(max_leaf_nodes=15000,\n",
              "                                                     n_estimators=300,\n",
              "                                                     random_state=42)),\n",
              "                             (&#x27;svc&#x27;,\n",
              "                              GridSearchCV(cv=3,\n",
              "                                           estimator=SVC(probability=True),\n",
              "                                           param_grid={&#x27;C&#x27;: [0.1, 1, 10],\n",
              "                                                       &#x27;kernel&#x27;: [&#x27;linear&#x27;,\n",
              "                                                                  &#x27;rbf&#x27;,\n",
              "                                                                  &#x27;poly&#x27;]})),\n",
              "                             (&#x27;lr&#x27;, LogisticRegression(solver=&#x27;liblinear&#x27;))],\n",
              "                 voting=&#x27;soft&#x27;, weights=[2, 1, 1])</pre><b>In a Jupyter environment, please rerun this cell to show the HTML representation or trust the notebook. <br />On GitHub, the HTML representation is unable to render, please try loading this page with nbviewer.org.</b></div><div class=\"sk-container\" hidden><div class=\"sk-item sk-dashed-wrapped\"><div class=\"sk-label-container\"><div class=\"sk-label fitted sk-toggleable\"><input class=\"sk-toggleable__control sk-hidden--visually\" id=\"sk-estimator-id-1\" type=\"checkbox\" ><label for=\"sk-estimator-id-1\" class=\"sk-toggleable__label fitted sk-toggleable__label-arrow fitted\">&nbsp;&nbsp;VotingClassifier<a class=\"sk-estimator-doc-link fitted\" rel=\"noreferrer\" target=\"_blank\" href=\"https://scikit-learn.org/1.5/modules/generated/sklearn.ensemble.VotingClassifier.html\">?<span>Documentation for VotingClassifier</span></a><span class=\"sk-estimator-doc-link fitted\">i<span>Fitted</span></span></label><div class=\"sk-toggleable__content fitted\"><pre>VotingClassifier(estimators=[(&#x27;rf&#x27;,\n",
              "                              RandomForestClassifier(max_leaf_nodes=15000,\n",
              "                                                     n_estimators=300,\n",
              "                                                     random_state=42)),\n",
              "                             (&#x27;svc&#x27;,\n",
              "                              GridSearchCV(cv=3,\n",
              "                                           estimator=SVC(probability=True),\n",
              "                                           param_grid={&#x27;C&#x27;: [0.1, 1, 10],\n",
              "                                                       &#x27;kernel&#x27;: [&#x27;linear&#x27;,\n",
              "                                                                  &#x27;rbf&#x27;,\n",
              "                                                                  &#x27;poly&#x27;]})),\n",
              "                             (&#x27;lr&#x27;, LogisticRegression(solver=&#x27;liblinear&#x27;))],\n",
              "                 voting=&#x27;soft&#x27;, weights=[2, 1, 1])</pre></div> </div></div><div class=\"sk-parallel\"><div class=\"sk-parallel-item\"><div class=\"sk-item\"><div class=\"sk-label-container\"><div class=\"sk-label fitted sk-toggleable\"><label>rf</label></div></div><div class=\"sk-serial\"><div class=\"sk-item\"><div class=\"sk-estimator fitted sk-toggleable\"><input class=\"sk-toggleable__control sk-hidden--visually\" id=\"sk-estimator-id-2\" type=\"checkbox\" ><label for=\"sk-estimator-id-2\" class=\"sk-toggleable__label fitted sk-toggleable__label-arrow fitted\">&nbsp;RandomForestClassifier<a class=\"sk-estimator-doc-link fitted\" rel=\"noreferrer\" target=\"_blank\" href=\"https://scikit-learn.org/1.5/modules/generated/sklearn.ensemble.RandomForestClassifier.html\">?<span>Documentation for RandomForestClassifier</span></a></label><div class=\"sk-toggleable__content fitted\"><pre>RandomForestClassifier(max_leaf_nodes=15000, n_estimators=300, random_state=42)</pre></div> </div></div></div></div></div><div class=\"sk-parallel-item\"><div class=\"sk-item\"><div class=\"sk-label-container\"><div class=\"sk-label fitted sk-toggleable\"><label>svc</label></div></div><div class=\"sk-serial\"><div class=\"sk-item sk-dashed-wrapped\"><div class=\"sk-parallel\"><div class=\"sk-parallel-item\"><div class=\"sk-item\"><div class=\"sk-label-container\"><div class=\"sk-label fitted sk-toggleable\"><input class=\"sk-toggleable__control sk-hidden--visually\" id=\"sk-estimator-id-3\" type=\"checkbox\" ><label for=\"sk-estimator-id-3\" class=\"sk-toggleable__label fitted sk-toggleable__label-arrow fitted\">best_estimator_: SVC</label><div class=\"sk-toggleable__content fitted\"><pre>SVC(C=10, probability=True)</pre></div> </div></div><div class=\"sk-serial\"><div class=\"sk-item\"><div class=\"sk-estimator fitted sk-toggleable\"><input class=\"sk-toggleable__control sk-hidden--visually\" id=\"sk-estimator-id-4\" type=\"checkbox\" ><label for=\"sk-estimator-id-4\" class=\"sk-toggleable__label fitted sk-toggleable__label-arrow fitted\">&nbsp;SVC<a class=\"sk-estimator-doc-link fitted\" rel=\"noreferrer\" target=\"_blank\" href=\"https://scikit-learn.org/1.5/modules/generated/sklearn.svm.SVC.html\">?<span>Documentation for SVC</span></a></label><div class=\"sk-toggleable__content fitted\"><pre>SVC(C=10, probability=True)</pre></div> </div></div></div></div></div></div></div></div></div></div><div class=\"sk-parallel-item\"><div class=\"sk-item\"><div class=\"sk-label-container\"><div class=\"sk-label fitted sk-toggleable\"><label>lr</label></div></div><div class=\"sk-serial\"><div class=\"sk-item\"><div class=\"sk-estimator fitted sk-toggleable\"><input class=\"sk-toggleable__control sk-hidden--visually\" id=\"sk-estimator-id-5\" type=\"checkbox\" ><label for=\"sk-estimator-id-5\" class=\"sk-toggleable__label fitted sk-toggleable__label-arrow fitted\">&nbsp;LogisticRegression<a class=\"sk-estimator-doc-link fitted\" rel=\"noreferrer\" target=\"_blank\" href=\"https://scikit-learn.org/1.5/modules/generated/sklearn.linear_model.LogisticRegression.html\">?<span>Documentation for LogisticRegression</span></a></label><div class=\"sk-toggleable__content fitted\"><pre>LogisticRegression(solver=&#x27;liblinear&#x27;)</pre></div> </div></div></div></div></div></div></div></div></div>"
            ],
            "text/plain": [
              "VotingClassifier(estimators=[('rf',\n",
              "                              RandomForestClassifier(max_leaf_nodes=15000,\n",
              "                                                     n_estimators=300,\n",
              "                                                     random_state=42)),\n",
              "                             ('svc',\n",
              "                              GridSearchCV(cv=3,\n",
              "                                           estimator=SVC(probability=True),\n",
              "                                           param_grid={'C': [0.1, 1, 10],\n",
              "                                                       'kernel': ['linear',\n",
              "                                                                  'rbf',\n",
              "                                                                  'poly']})),\n",
              "                             ('lr', LogisticRegression(solver='liblinear'))],\n",
              "                 voting='soft', weights=[2, 1, 1])"
            ]
          },
          "execution_count": 15,
          "metadata": {},
          "output_type": "execute_result"
        }
      ],
      "source": [
        "eclf.fit(train_data_scaled, train_labels)"
      ]
    },
    {
      "cell_type": "code",
      "execution_count": 16,
      "metadata": {
        "colab": {
          "base_uri": "https://localhost:8080/"
        },
        "id": "iKniQ20CaPJx",
        "outputId": "bb40fed6-55fd-4132-e2c2-444bb11940c8"
      },
      "outputs": [
        {
          "data": {
            "text/plain": [
              "{'C': 10, 'kernel': 'rbf'}"
            ]
          },
          "execution_count": 16,
          "metadata": {},
          "output_type": "execute_result"
        }
      ],
      "source": [
        "best_svc_params = clf2.best_params_\n",
        "best_svc_params"
      ]
    },
    {
      "cell_type": "markdown",
      "metadata": {
        "id": "UNbNd4mPcxdC"
      },
      "source": [
        "10: testing set"
      ]
    },
    {
      "cell_type": "code",
      "execution_count": 17,
      "metadata": {
        "colab": {
          "base_uri": "https://localhost:8080/"
        },
        "id": "fVSTao1Qczny",
        "outputId": "8c100b60-4d3b-40a0-dfab-6c5d15c600d8"
      },
      "outputs": [
        {
          "name": "stdout",
          "output_type": "stream",
          "text": [
            "0.9032258064516129\n"
          ]
        }
      ],
      "source": [
        "val_prediction = eclf.predict(val_data_scaled)\n",
        "accuracy = accuracy_score(val_labels, val_prediction)\n",
        "print(accuracy)"
      ]
    },
    {
      "cell_type": "code",
      "execution_count": 18,
      "metadata": {
        "colab": {
          "base_uri": "https://localhost:8080/"
        },
        "id": "3DA_8oC5bp5F",
        "outputId": "f9a2971d-692d-44ff-9fd3-5a710acf10e9"
      },
      "outputs": [
        {
          "name": "stdout",
          "output_type": "stream",
          "text": [
            "[0.93939394 0.8989899  0.8989899  0.89795918 0.90816327]\n"
          ]
        }
      ],
      "source": [
        "# 用cross CV验证结果准确性\n",
        "from sklearn.model_selection import cross_val_score\n",
        "scores = cross_val_score(eclf, train_data_scaled, train_labels, cv=5)\n",
        "print(scores)"
      ]
    },
    {
      "cell_type": "code",
      "execution_count": 19,
      "metadata": {
        "id": "GvhRgpZ2dq34"
      },
      "outputs": [],
      "source": [
        "from sklearn.feature_selection import SelectFromModel"
      ]
    },
    {
      "cell_type": "code",
      "execution_count": 20,
      "metadata": {
        "colab": {
          "base_uri": "https://localhost:8080/"
        },
        "id": "XgPsU09Jc0Tp",
        "outputId": "a6752740-ec14-4c2f-c64f-4701e9b530bb"
      },
      "outputs": [
        {
          "name": "stdout",
          "output_type": "stream",
          "text": [
            "0.8951612903225806\n"
          ]
        }
      ],
      "source": [
        "#利用randomforest的重要性来选择保留特征值\n",
        "feature_selector = SelectFromModel(clf1, threshold ='median')\n",
        "train_data_selected = feature_selector.fit_transform(train_data_scaled, train_labels)\n",
        "val_data_selected = feature_selector.transform(val_data_scaled)\n",
        "\n",
        "eclf.fit(train_data_selected, train_labels)\n",
        "val_prediction = eclf.predict(val_data_selected)\n",
        "accuracy = accuracy_score(val_labels, val_prediction)\n",
        "print(accuracy)"
      ]
    },
    {
      "cell_type": "markdown",
      "metadata": {
        "id": "rhV2Y3Hyc0Sz"
      },
      "source": [
        "11: result and interpret"
      ]
    },
    {
      "cell_type": "code",
      "execution_count": null,
      "metadata": {
        "id": "wkPcypcHc2Io"
      },
      "outputs": [],
      "source": []
    }
  ],
  "metadata": {
    "colab": {
      "provenance": []
    },
    "kernelspec": {
      "display_name": "Python 3",
      "name": "python3"
    },
    "language_info": {
      "codemirror_mode": {
        "name": "ipython",
        "version": 3
      },
      "file_extension": ".py",
      "mimetype": "text/x-python",
      "name": "python",
      "nbconvert_exporter": "python",
      "pygments_lexer": "ipython3",
      "version": "3.12.4"
    }
  },
  "nbformat": 4,
  "nbformat_minor": 0
}
